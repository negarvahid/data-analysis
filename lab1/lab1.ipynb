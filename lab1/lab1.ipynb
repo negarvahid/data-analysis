{
 "cells": [
  {
   "cell_type": "markdown",
   "metadata": {},
   "source": [
    "**Welcome to your first lab** 💫\n"
   ]
  },
  {
   "cell_type": "markdown",
   "metadata": {},
   "source": [
    "If you feel stuck in a certain task, check `/Lab1cheatsheat.ipynb` for hints.\n",
    "\n",
    "In case that didn't help, email me at negar.sk.vahid@gmail.com"
   ]
  },
  {
   "cell_type": "markdown",
   "metadata": {},
   "source": [
    "**What you need to know to be able to solve the following two tasks:**"
   ]
  },
  {
   "cell_type": "markdown",
   "metadata": {},
   "source": [
    "- Python Lists\n",
    "- Numpy Ndarrays "
   ]
  },
  {
   "cell_type": "markdown",
   "metadata": {},
   "source": [
    "**Task 1** : "
   ]
  },
  {
   "cell_type": "markdown",
   "metadata": {},
   "source": [
    "A list baseball has already been defined in the Python script, representing the height of some baseball players in centimeters. Can you add some code here and there to create a numpy array from it?"
   ]
  },
  {
   "cell_type": "code",
   "execution_count": null,
   "metadata": {},
   "outputs": [],
   "source": [
    "baseball = [180, 215, 210, 210, 188, 176, 209, 200]\n",
    "# Import the numpy package as np\n",
    "\n",
    "# Create a numpy array from baseball: np_baseball\n",
    "\n",
    "# Print out type of np_baseball\n"
   ]
  },
  {
   "cell_type": "markdown",
   "metadata": {},
   "source": [
    "Use `np_height_m` and `np_weigh`t to calculate the **BMI** of each player. Use the following equation:\n",
    "`weight/height ** 2`\n",
    "\n",
    "Save the resulting numpy array as **bmi**.\n",
    "Print out bmi."
   ]
  },
  {
   "cell_type": "code",
   "execution_count": null,
   "metadata": {},
   "outputs": [],
   "source": [
    "weights = [90.0, 71.0, 120.0, 97.0, 99.2, 100,90, 56]\n",
    "# Create a numpy array from weights: np_weights\n",
    "\n",
    "# Calculate the BMI: bmi\n",
    "\n",
    "# Print out bmi"
   ]
  },
  {
   "cell_type": "markdown",
   "metadata": {},
   "source": [
    "**Task 2 :**"
   ]
  },
  {
   "cell_type": "markdown",
   "metadata": {},
   "source": [
    "your friend group has rated a few movies, we can store their ratings in a NumPy array `movie_ratings`:"
   ]
  },
  {
   "cell_type": "code",
   "execution_count": null,
   "metadata": {},
   "outputs": [],
   "source": [
    "movie_ratings = np.array([63.0, 54.0, 70.0, 50.0])"
   ]
  },
  {
   "cell_type": "markdown",
   "metadata": {},
   "source": [
    "Now let's say the ratings are always in the same order (Lasha, Giorgi, Nene, Keti) if we wanted to create an array that only had Keti's ratings,how can we select them from the `movie_ratings` array?"
   ]
  },
  {
   "cell_type": "code",
   "execution_count": null,
   "metadata": {},
   "outputs": [],
   "source": [
    "#Your answer"
   ]
  },
  {
   "cell_type": "markdown",
   "metadata": {},
   "source": [
    "Now, say we find that we have very similar taste to Lasha, so we only want to see movies that he gives a good rating to, we can use logic to select those movies.\n",
    "\n",
    "Let's select all of Marty's ratings that are over 80:"
   ]
  },
  {
   "cell_type": "code",
   "execution_count": null,
   "metadata": {},
   "outputs": [],
   "source": [
    "#Your answer"
   ]
  },
  {
   "cell_type": "markdown",
   "metadata": {},
   "source": [
    "anddd you are done! great job!"
   ]
  }
 ],
 "metadata": {
  "kernelspec": {
   "display_name": "Python 3",
   "language": "python",
   "name": "python3"
  },
  "language_info": {
   "codemirror_mode": {
    "name": "ipython",
    "version": 3
   },
   "file_extension": ".py",
   "mimetype": "text/x-python",
   "name": "python",
   "nbconvert_exporter": "python",
   "pygments_lexer": "ipython3",
   "version": "3.7.3"
  }
 },
 "nbformat": 4,
 "nbformat_minor": 4
}
